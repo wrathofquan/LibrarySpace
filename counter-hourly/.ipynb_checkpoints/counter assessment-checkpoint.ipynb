{
 "cells": [
  {
   "cell_type": "code",
   "execution_count": 61,
   "metadata": {
    "collapsed": true
   },
   "outputs": [],
   "source": [
    "import os\n",
    "import glob\n",
    "import pandas as pd\n"
   ]
  },
  {
   "cell_type": "code",
   "execution_count": 78,
   "metadata": {},
   "outputs": [
    {
     "name": "stdout",
     "output_type": "stream",
     "text": [
      "['HourlyTraffic-2018-02-18.xlsm', 'HourlyTraffic-2018-01-08.xlsm', 'HourlyTraffic-2017-09-15.xlsm', 'HourlyTraffic-2017-11-22.xlsm', 'HourlyTraffic-2018-04-27.xlsm', 'HourlyTraffic-2017-12-24.xlsm', 'HourlyTraffic-2017-10-19.xlsm', 'HourlyTraffic-2017-09-03.xlsm', 'HourlyTraffic-2018-03-23.xlsm', 'HourlyTraffic-2017-12-08.xlsm', 'HourlyTraffic-2018-05-26.xlsm', 'HourlyTraffic-2017-11-18.xlsm', 'HourlyTraffic-2017-08-02.xlsm', 'HourlyTraffic-2018-02-22.xlsm', 'HourlyTraffic-2017-07-31.xlsm', 'HourlyTraffic-2017-08-14.xlsm', 'HourlyTraffic-2017-07-27.xlsm', 'HourlyTraffic-2018-03-19.xlsm', 'HourlyTraffic-2018-01-24.xlsm', 'HourlyTraffic-2018-06-20.xlsm', 'HourlyTraffic-2017-10-23.xlsm', 'HourlyTraffic-2018-05-30.xlsm', 'HourlyTraffic-2017-07-07.xlsm', 'HourlyTraffic-2017-09-19.xlsm', 'HourlyTraffic-2018-01-04.xlsm', 'HourlyTraffic-2018-02-14.xlsm', 'HourlyTraffic-2018-05-10.xlsm', 'HourlyTraffic-2017-10-03.xlsm', 'HourlyTraffic-2018-05-06.xlsm', 'HourlyTraffic-2017-10-15.xlsm', 'HourlyTraffic-2017-12-28.xlsm', 'HourlyTraffic-2018-06-16.xlsm', 'HourlyTraffic-2018-01-12.xlsm', 'HourlyTraffic-2017-07-11.xlsm', 'HourlyTraffic-2017-08-22.xlsm', 'HourlyTraffic-2018-02-02.xlsm', 'HourlyTraffic-2017-11-14.xlsm', 'HourlyTraffic-2018-04-07.xlsm', 'HourlyTraffic-2017-12-04.xlsm', 'HourlyTraffic-2017-09-23.xlsm', 'HourlyTraffic-2018-03-03.xlsm', 'HourlyTraffic-2018-01-28.xlsm', 'HourlyTraffic-2018-03-15.xlsm', 'HourlyTraffic-2017-08-18.xlsm', 'HourlyTraffic-2018-07-01.xlsm', 'HourlyTraffic-2017-11-02.xlsm', 'HourlyTraffic-2017-12-12.xlsm', 'HourlyTraffic-2018-04-11.xlsm', 'HourlyTraffic-2017-12-13.xlsm', 'HourlyTraffic-2018-04-10.xlsm', 'HourlyTraffic-2017-11-03.xlsm', 'HourlyTraffic-2017-08-19.xlsm', 'HourlyTraffic-2018-03-14.xlsm', 'HourlyTraffic-2018-01-29.xlsm', 'HourlyTraffic-2017-09-22.xlsm', 'HourlyTraffic-2018-03-02.xlsm', 'HourlyTraffic-2018-04-06.xlsm', 'HourlyTraffic-2017-12-05.xlsm', 'HourlyTraffic-2017-11-15.xlsm', 'HourlyTraffic-2017-08-23.xlsm', 'HourlyTraffic-2018-02-03.xlsm', 'HourlyTraffic-2018-01-13.xlsm', 'HourlyTraffic-2017-07-10.xlsm', 'HourlyTraffic-2017-12-29.xlsm', 'HourlyTraffic-2017-10-14.xlsm', 'HourlyTraffic-2018-06-17.xlsm', 'HourlyTraffic-2018-05-07.xlsm', 'HourlyTraffic-2018-06-01.xlsm', 'HourlyTraffic-2017-10-02.xlsm', 'HourlyTraffic-2018-05-11.xlsm', 'HourlyTraffic-2018-02-15.xlsm', 'HourlyTraffic-2017-07-06.xlsm', 'HourlyTraffic-2017-09-18.xlsm', 'HourlyTraffic-2018-01-05.xlsm', 'HourlyTraffic-2018-05-31.xlsm', 'HourlyTraffic-2018-06-21.xlsm', 'HourlyTraffic-2017-10-22.xlsm', 'HourlyTraffic-2017-07-26.xlsm', 'HourlyTraffic-2018-01-25.xlsm', 'HourlyTraffic-2018-03-18.xlsm', 'HourlyTraffic-2017-08-15.xlsm', 'HourlyTraffic-2017-07-30.xlsm', 'HourlyTraffic-2017-08-03.xlsm', 'HourlyTraffic-2018-02-23.xlsm', 'HourlyTraffic-2018-05-27.xlsm', 'HourlyTraffic-2017-11-19.xlsm', 'HourlyTraffic-2017-12-09.xlsm', 'HourlyTraffic-2017-09-02.xlsm', 'HourlyTraffic-2018-03-22.xlsm', 'HourlyTraffic-2018-04-26.xlsm', 'HourlyTraffic-2017-10-18.xlsm', 'HourlyTraffic-2017-12-25.xlsm', 'HourlyTraffic-2017-11-23.xlsm', 'HourlyTraffic-2018-04-30.xlsm', 'HourlyTraffic-2018-01-09.xlsm', 'HourlyTraffic-2017-09-14.xlsm', 'HourlyTraffic-2018-02-19.xlsm', 'HourlyTraffic-2018-01-02.xlsm', 'HourlyTraffic-2017-07-01.xlsm', 'HourlyTraffic-2018-02-12.xlsm', 'HourlyTraffic-2018-05-16.xlsm', 'HourlyTraffic-2017-11-28.xlsm', 'HourlyTraffic-2017-10-05.xlsm', 'HourlyTraffic-2018-06-06.xlsm', 'HourlyTraffic-2018-06-10.xlsm', 'HourlyTraffic-2017-10-13.xlsm', 'HourlyTraffic-2017-07-17.xlsm', 'HourlyTraffic-2017-09-09.xlsm', 'HourlyTraffic-2018-01-14.xlsm', 'HourlyTraffic-2018-03-29.xlsm', 'HourlyTraffic-2018-02-04.xlsm', 'HourlyTraffic-2017-08-24.xlsm', 'HourlyTraffic-2017-11-12.xlsm', 'HourlyTraffic-2017-12-02.xlsm', 'HourlyTraffic-2018-04-01.xlsm', 'HourlyTraffic-2018-03-05.xlsm', 'HourlyTraffic-2017-09-25.xlsm', 'HourlyTraffic-2017-08-08.xlsm', 'HourlyTraffic-2018-02-28.xlsm', 'HourlyTraffic-2018-03-13.xlsm', 'HourlyTraffic-2017-11-04.xlsm', 'HourlyTraffic-2018-04-17.xlsm', 'HourlyTraffic-2017-10-29.xlsm', 'HourlyTraffic-2017-12-14.xlsm', 'HourlyTraffic-2017-09-13.xlsm', 'HourlyTraffic-2017-10-09.xlsm', 'HourlyTraffic-2017-11-24.xlsm', 'HourlyTraffic-2017-12-22.xlsm', 'HourlyTraffic-2018-04-21.xlsm', 'HourlyTraffic-2017-08-28.xlsm', 'HourlyTraffic-2018-02-08.xlsm', 'HourlyTraffic-2018-03-25.xlsm', 'HourlyTraffic-2018-01-18.xlsm', 'HourlyTraffic-2017-09-05.xlsm', 'HourlyTraffic-2018-06-30.xlsm', 'HourlyTraffic-2018-05-20.xlsm', 'HourlyTraffic-2018-02-24.xlsm', 'HourlyTraffic-2017-08-04.xlsm', 'HourlyTraffic-2017-09-29.xlsm', 'HourlyTraffic-2018-03-09.xlsm', 'HourlyTraffic-2017-08-12.xlsm', 'HourlyTraffic-2018-01-22.xlsm', 'HourlyTraffic-2017-07-21.xlsm', 'HourlyTraffic-2017-12-18.xlsm', 'HourlyTraffic-2017-10-25.xlsm', 'HourlyTraffic-2018-06-26.xlsm', 'HourlyTraffic-2017-11-08.xlsm', 'HourlyTraffic-2017-11-09.xlsm', 'HourlyTraffic-2017-10-24.xlsm', 'HourlyTraffic-2017-12-19.xlsm', 'HourlyTraffic-2018-06-27.xlsm', 'HourlyTraffic-2018-01-23.xlsm', 'HourlyTraffic-2017-07-20.xlsm', 'HourlyTraffic-2017-08-13.xlsm', 'HourlyTraffic-2017-09-28.xlsm', 'HourlyTraffic-2018-03-08.xlsm', 'HourlyTraffic-2018-02-25.xlsm', 'HourlyTraffic-2017-08-05.xlsm', 'HourlyTraffic-2018-05-21.xlsm', 'HourlyTraffic-2018-01-19.xlsm', 'HourlyTraffic-2018-03-24.xlsm', 'HourlyTraffic-2017-09-04.xlsm', 'HourlyTraffic-2017-08-29.xlsm', 'HourlyTraffic-2018-02-09.xlsm', 'HourlyTraffic-2017-12-23.xlsm', 'HourlyTraffic-2018-04-20.xlsm', 'HourlyTraffic-2017-11-25.xlsm', 'HourlyTraffic-2017-10-08.xlsm', 'HourlyTraffic-2017-09-12.xlsm', 'HourlyTraffic-2018-04-16.xlsm', 'HourlyTraffic-2017-12-15.xlsm', 'HourlyTraffic-2017-10-28.xlsm', 'HourlyTraffic-2017-11-05.xlsm', 'HourlyTraffic-2018-03-12.xlsm', 'HourlyTraffic-2017-08-09.xlsm', 'HourlyTraffic-2018-03-04.xlsm', 'HourlyTraffic-2017-09-24.xlsm', 'HourlyTraffic-2017-12-03.xlsm', 'HourlyTraffic-2017-11-13.xlsm', 'HourlyTraffic-2018-02-05.xlsm', 'HourlyTraffic-2017-08-25.xlsm', 'HourlyTraffic-2017-07-16.xlsm', 'HourlyTraffic-2017-09-08.xlsm', 'HourlyTraffic-2018-03-28.xlsm', 'HourlyTraffic-2018-01-15.xlsm', 'HourlyTraffic-2018-06-11.xlsm', 'HourlyTraffic-2017-10-12.xlsm', 'HourlyTraffic-2018-05-01.xlsm', 'HourlyTraffic-2017-10-04.xlsm', 'HourlyTraffic-2018-06-07.xlsm', 'HourlyTraffic-2018-05-17.xlsm', 'HourlyTraffic-2017-11-29.xlsm', 'HourlyTraffic-2018-02-13.xlsm', 'HourlyTraffic-2018-01-03.xlsm', 'HourlyTraffic-2018-06-28.xlsm', 'HourlyTraffic-2018-04-15.xlsm', 'HourlyTraffic-2017-12-16.xlsm', 'HourlyTraffic-2017-11-06.xlsm', 'HourlyTraffic-2018-03-11.xlsm', 'HourlyTraffic-2018-03-07.xlsm', 'HourlyTraffic-2017-09-27.xlsm', 'HourlyTraffic-2018-04-03.xlsm', 'HourlyTraffic-2017-11-10.xlsm', 'HourlyTraffic-2018-02-06.xlsm', 'HourlyTraffic-2017-08-26.xlsm', 'HourlyTraffic-2018-01-16.xlsm', 'HourlyTraffic-2017-07-15.xlsm', 'HourlyTraffic-2018-06-12.xlsm', 'HourlyTraffic-2017-10-11.xlsm', 'HourlyTraffic-2018-05-02.xlsm', 'HourlyTraffic-2017-10-07.xlsm', 'HourlyTraffic-2018-06-04.xlsm', 'HourlyTraffic-2018-05-14.xlsm', 'HourlyTraffic-2017-08-30.xlsm', 'HourlyTraffic-2018-02-10.xlsm', 'HourlyTraffic-2017-07-03.xlsm', 'HourlyTraffic-2017-10-27.xlsm', 'HourlyTraffic-2018-04-19.xlsm', 'HourlyTraffic-2018-06-24.xlsm', 'HourlyTraffic-2017-07-23.xlsm', 'HourlyTraffic-2018-01-20.xlsm', 'HourlyTraffic-2017-08-10.xlsm', 'HourlyTraffic-2018-02-26.xlsm', 'HourlyTraffic-2017-08-06.xlsm', 'HourlyTraffic-2018-05-22.xlsm', 'HourlyTraffic-2017-10-31.xlsm', 'HourlyTraffic-2017-07-19.xlsm', 'HourlyTraffic-2018-03-27.xlsm', 'HourlyTraffic-2017-09-07.xlsm', 'HourlyTraffic-2017-11-30.xlsm', 'HourlyTraffic-2017-12-20.xlsm', 'HourlyTraffic-2018-04-23.xlsm', 'HourlyTraffic-2017-11-26.xlsm', 'HourlyTraffic-2018-05-18.xlsm', 'HourlyTraffic-2018-06-08.xlsm', 'HourlyTraffic-2017-09-11.xlsm', 'HourlyTraffic-2018-03-31.xlsm', 'HourlyTraffic-2017-09-10.xlsm', 'HourlyTraffic-2018-03-30.xlsm', 'HourlyTraffic-2018-06-09.xlsm', 'HourlyTraffic-2017-11-27.xlsm', 'HourlyTraffic-2018-05-19.xlsm', 'HourlyTraffic-2017-12-21.xlsm', 'HourlyTraffic-2018-04-22.xlsm', 'HourlyTraffic-2017-07-18.xlsm', 'HourlyTraffic-2018-03-26.xlsm', 'HourlyTraffic-2017-09-06.xlsm', 'HourlyTraffic-2017-10-30.xlsm', 'HourlyTraffic-2018-05-23.xlsm', 'HourlyTraffic-2018-02-27.xlsm', 'HourlyTraffic-2017-08-07.xlsm', 'HourlyTraffic-2017-08-11.xlsm', 'HourlyTraffic-2017-07-22.xlsm', 'HourlyTraffic-2018-01-21.xlsm', 'HourlyTraffic-2017-10-26.xlsm', 'HourlyTraffic-2018-06-25.xlsm', 'HourlyTraffic-2018-04-18.xlsm', 'HourlyTraffic-2017-07-02.xlsm', 'HourlyTraffic-2018-01-01.xlsm', 'HourlyTraffic-2017-08-31.xlsm', 'HourlyTraffic-2018-02-11.xlsm', 'HourlyTraffic-2018-05-15.xlsm', 'HourlyTraffic-2017-10-06.xlsm', 'HourlyTraffic-2018-06-05.xlsm', 'HourlyTraffic-2018-05-03.xlsm', 'HourlyTraffic-2018-06-13.xlsm', 'HourlyTraffic-2017-10-10.xlsm', 'HourlyTraffic-2018-01-17.xlsm', 'HourlyTraffic-2017-07-14.xlsm', 'HourlyTraffic-2018-02-07.xlsm', 'HourlyTraffic-2017-08-27.xlsm', 'HourlyTraffic-2017-11-11.xlsm', 'HourlyTraffic-2017-12-01.xlsm', 'HourlyTraffic-2018-04-02.xlsm', 'HourlyTraffic-2018-03-06.xlsm', 'HourlyTraffic-2017-09-26.xlsm', 'HourlyTraffic-2017-09-30.xlsm', 'HourlyTraffic-2018-03-10.xlsm', 'HourlyTraffic-2017-11-07.xlsm', 'HourlyTraffic-2018-04-14.xlsm', 'HourlyTraffic-2018-06-29.xlsm', 'HourlyTraffic-2017-12-17.xlsm', 'HourlyTraffic-2018-06-22.xlsm', 'HourlyTraffic-2017-10-21.xlsm', 'HourlyTraffic-2018-01-26.xlsm', 'HourlyTraffic-2017-07-25.xlsm', 'HourlyTraffic-2017-08-16.xlsm', 'HourlyTraffic-2018-01-30.xlsm', 'HourlyTraffic-2018-02-20.xlsm', 'HourlyTraffic-2018-05-24.xlsm', 'HourlyTraffic-2018-04-09.xlsm', 'HourlyTraffic-2017-09-01.xlsm', 'HourlyTraffic-2018-03-21.xlsm', 'HourlyTraffic-2018-05-08.xlsm', 'HourlyTraffic-2018-04-25.xlsm', 'HourlyTraffic-2018-06-18.xlsm', 'HourlyTraffic-2017-12-26.xlsm', 'HourlyTraffic-2017-11-20.xlsm', 'HourlyTraffic-2017-12-30.xlsm', 'HourlyTraffic-2017-07-09.xlsm', 'HourlyTraffic-2017-09-17.xlsm', 'HourlyTraffic-2017-12-10.xlsm', 'HourlyTraffic-2018-04-13.xlsm', 'HourlyTraffic-2017-07-29.xlsm', 'HourlyTraffic-2018-03-17.xlsm', 'HourlyTraffic-2017-09-21.xlsm', 'HourlyTraffic-2018-03-01.xlsm', 'HourlyTraffic-2018-04-05.xlsm', 'HourlyTraffic-2017-12-06.xlsm', 'HourlyTraffic-2017-11-16.xlsm', 'HourlyTraffic-2018-05-28.xlsm', 'HourlyTraffic-2017-08-20.xlsm', 'HourlyTraffic-2017-07-13.xlsm', 'HourlyTraffic-2018-01-10.xlsm', 'HourlyTraffic-2017-10-17.xlsm', 'HourlyTraffic-2018-06-14.xlsm', 'HourlyTraffic-2018-04-29.xlsm', 'HourlyTraffic-2018-05-04.xlsm', 'HourlyTraffic-2018-06-02.xlsm', 'HourlyTraffic-2017-10-01.xlsm', 'HourlyTraffic-2018-05-12.xlsm', 'HourlyTraffic-2018-02-16.xlsm', 'HourlyTraffic-2018-01-06.xlsm', 'HourlyTraffic-2017-07-05.xlsm', 'HourlyTraffic-2018-01-07.xlsm', 'HourlyTraffic-2017-07-04.xlsm', 'HourlyTraffic-2018-02-17.xlsm', 'HourlyTraffic-2018-05-13.xlsm', 'HourlyTraffic-2018-06-03.xlsm', 'HourlyTraffic-2018-05-05.xlsm', 'HourlyTraffic-2017-10-16.xlsm', 'HourlyTraffic-2018-04-28.xlsm', 'HourlyTraffic-2018-06-15.xlsm', 'HourlyTraffic-2017-07-12.xlsm', 'HourlyTraffic-2018-01-11.xlsm', 'HourlyTraffic-2017-08-21.xlsm', 'HourlyTraffic-2018-02-01.xlsm', 'HourlyTraffic-2017-11-17.xlsm', 'HourlyTraffic-2018-05-29.xlsm', 'HourlyTraffic-2018-04-04.xlsm', 'HourlyTraffic-2017-12-07.xlsm', 'HourlyTraffic-2017-09-20.xlsm', 'HourlyTraffic-2017-07-28.xlsm', 'HourlyTraffic-2018-03-16.xlsm', 'HourlyTraffic-2017-11-01.xlsm', 'HourlyTraffic-2017-12-11.xlsm', 'HourlyTraffic-2018-04-12.xlsm', 'HourlyTraffic-2017-07-08.xlsm', 'HourlyTraffic-2017-09-16.xlsm', 'HourlyTraffic-2017-12-31.xlsm', 'HourlyTraffic-2017-11-21.xlsm', 'HourlyTraffic-2018-06-19.xlsm', 'HourlyTraffic-2018-04-24.xlsm', 'HourlyTraffic-2017-12-27.xlsm', 'HourlyTraffic-2018-05-09.xlsm', 'HourlyTraffic-2018-03-20.xlsm', 'HourlyTraffic-2018-04-08.xlsm', 'HourlyTraffic-2018-05-25.xlsm', 'HourlyTraffic-2017-08-01.xlsm', 'HourlyTraffic-2018-02-21.xlsm', 'HourlyTraffic-2018-01-31.xlsm', 'HourlyTraffic-2017-08-17.xlsm', 'HourlyTraffic-2018-01-27.xlsm', 'HourlyTraffic-2017-07-24.xlsm', 'HourlyTraffic-2018-06-23.xlsm', 'HourlyTraffic-2017-10-20.xlsm']\n"
     ]
    }
   ],
   "source": [
    "list = glob.glob(\"*.xlsm\")\n",
    "print(list)"
   ]
  },
  {
   "cell_type": "code",
   "execution_count": 66,
   "metadata": {},
   "outputs": [],
   "source": [
    "# assign file names\n",
    "\n",
    "excel_names = ['HourlyTraffic-2018-02-18.xlsm', 'HourlyTraffic-2018-01-08.xlsm', 'HourlyTraffic-2017-09-15.xlsm', 'HourlyTraffic-2017-11-22.xlsm', 'HourlyTraffic-2018-04-27.xlsm', 'HourlyTraffic-2017-12-24.xlsm', 'HourlyTraffic-2017-10-19.xlsm', 'HourlyTraffic-2017-09-03.xlsm', 'HourlyTraffic-2018-03-23.xlsm', 'HourlyTraffic-2017-12-08.xlsm', 'HourlyTraffic-2018-05-26.xlsm', 'HourlyTraffic-2017-11-18.xlsm', 'HourlyTraffic-2017-08-02.xlsm', 'HourlyTraffic-2018-02-22.xlsm', 'HourlyTraffic-2017-07-31.xlsm', 'HourlyTraffic-2017-08-14.xlsm', 'HourlyTraffic-2017-07-27.xlsm', 'HourlyTraffic-2018-03-19.xlsm', 'HourlyTraffic-2018-01-24.xlsm', 'HourlyTraffic-2018-06-20.xlsm', 'HourlyTraffic-2017-10-23.xlsm', 'HourlyTraffic-2018-05-30.xlsm', 'HourlyTraffic-2017-07-07.xlsm', 'HourlyTraffic-2017-09-19.xlsm', 'HourlyTraffic-2018-01-04.xlsm', 'HourlyTraffic-2018-02-14.xlsm', 'HourlyTraffic-2018-05-10.xlsm', 'HourlyTraffic-2017-10-03.xlsm', 'HourlyTraffic-2018-05-06.xlsm', 'HourlyTraffic-2017-10-15.xlsm', 'HourlyTraffic-2017-12-28.xlsm', 'HourlyTraffic-2018-06-16.xlsm', 'HourlyTraffic-2018-01-12.xlsm', 'HourlyTraffic-2017-07-11.xlsm', 'HourlyTraffic-2017-08-22.xlsm', 'HourlyTraffic-2018-02-02.xlsm', 'HourlyTraffic-2017-11-14.xlsm', 'HourlyTraffic-2018-04-07.xlsm', 'HourlyTraffic-2017-12-04.xlsm', 'HourlyTraffic-2017-09-23.xlsm', 'HourlyTraffic-2018-03-03.xlsm', 'HourlyTraffic-2018-01-28.xlsm', 'HourlyTraffic-2018-03-15.xlsm', 'HourlyTraffic-2017-08-18.xlsm', 'HourlyTraffic-2018-07-01.xlsm', 'HourlyTraffic-2017-11-02.xlsm', 'HourlyTraffic-2017-12-12.xlsm', 'HourlyTraffic-2018-04-11.xlsm', 'HourlyTraffic-2017-12-13.xlsm', 'HourlyTraffic-2018-04-10.xlsm', 'HourlyTraffic-2017-11-03.xlsm', 'HourlyTraffic-2017-08-19.xlsm', 'HourlyTraffic-2018-03-14.xlsm', 'HourlyTraffic-2018-01-29.xlsm', 'HourlyTraffic-2017-09-22.xlsm', 'HourlyTraffic-2018-03-02.xlsm', 'HourlyTraffic-2018-04-06.xlsm', 'HourlyTraffic-2017-12-05.xlsm', 'HourlyTraffic-2017-11-15.xlsm', 'HourlyTraffic-2017-08-23.xlsm', 'HourlyTraffic-2018-02-03.xlsm', 'HourlyTraffic-2018-01-13.xlsm', 'HourlyTraffic-2017-07-10.xlsm', 'HourlyTraffic-2017-12-29.xlsm', 'HourlyTraffic-2017-10-14.xlsm', 'HourlyTraffic-2018-06-17.xlsm', 'HourlyTraffic-2018-05-07.xlsm', 'HourlyTraffic-2018-06-01.xlsm', 'HourlyTraffic-2017-10-02.xlsm', 'HourlyTraffic-2018-05-11.xlsm', 'HourlyTraffic-2018-02-15.xlsm', 'HourlyTraffic-2017-07-06.xlsm', 'HourlyTraffic-2017-09-18.xlsm', 'HourlyTraffic-2018-01-05.xlsm', 'HourlyTraffic-2018-05-31.xlsm', 'HourlyTraffic-2018-06-21.xlsm', 'HourlyTraffic-2017-10-22.xlsm', 'HourlyTraffic-2017-07-26.xlsm', 'HourlyTraffic-2018-01-25.xlsm', 'HourlyTraffic-2018-03-18.xlsm', 'HourlyTraffic-2017-08-15.xlsm', 'HourlyTraffic-2017-07-30.xlsm', 'HourlyTraffic-2017-08-03.xlsm', 'HourlyTraffic-2018-02-23.xlsm', 'HourlyTraffic-2018-05-27.xlsm', 'HourlyTraffic-2017-11-19.xlsm', 'HourlyTraffic-2017-12-09.xlsm', 'HourlyTraffic-2017-09-02.xlsm', 'HourlyTraffic-2018-03-22.xlsm', 'HourlyTraffic-2018-04-26.xlsm', 'HourlyTraffic-2017-10-18.xlsm', 'HourlyTraffic-2017-12-25.xlsm', 'HourlyTraffic-2017-11-23.xlsm', 'HourlyTraffic-2018-04-30.xlsm', 'HourlyTraffic-2018-01-09.xlsm', 'HourlyTraffic-2017-09-14.xlsm', 'HourlyTraffic-2018-02-19.xlsm', 'HourlyTraffic-2018-01-02.xlsm', 'HourlyTraffic-2017-07-01.xlsm', 'HourlyTraffic-2018-02-12.xlsm', 'HourlyTraffic-2018-05-16.xlsm', 'HourlyTraffic-2017-11-28.xlsm', 'HourlyTraffic-2017-10-05.xlsm', 'HourlyTraffic-2018-06-06.xlsm', 'HourlyTraffic-2018-06-10.xlsm', 'HourlyTraffic-2017-10-13.xlsm', 'HourlyTraffic-2017-07-17.xlsm', 'HourlyTraffic-2017-09-09.xlsm', 'HourlyTraffic-2018-01-14.xlsm', 'HourlyTraffic-2018-03-29.xlsm', 'HourlyTraffic-2018-02-04.xlsm', 'HourlyTraffic-2017-08-24.xlsm', 'HourlyTraffic-2017-11-12.xlsm', 'HourlyTraffic-2017-12-02.xlsm', 'HourlyTraffic-2018-04-01.xlsm', 'HourlyTraffic-2018-03-05.xlsm', 'HourlyTraffic-2017-09-25.xlsm', 'HourlyTraffic-2017-08-08.xlsm', 'HourlyTraffic-2018-02-28.xlsm', 'HourlyTraffic-2018-03-13.xlsm', 'HourlyTraffic-2017-11-04.xlsm', 'HourlyTraffic-2018-04-17.xlsm', 'HourlyTraffic-2017-10-29.xlsm', 'HourlyTraffic-2017-12-14.xlsm', 'HourlyTraffic-2017-09-13.xlsm', 'HourlyTraffic-2017-10-09.xlsm', 'HourlyTraffic-2017-11-24.xlsm', 'HourlyTraffic-2017-12-22.xlsm', 'HourlyTraffic-2018-04-21.xlsm', 'HourlyTraffic-2017-08-28.xlsm', 'HourlyTraffic-2018-02-08.xlsm', 'HourlyTraffic-2018-03-25.xlsm', 'HourlyTraffic-2018-01-18.xlsm', 'HourlyTraffic-2017-09-05.xlsm', 'HourlyTraffic-2018-06-30.xlsm', 'HourlyTraffic-2018-05-20.xlsm', 'HourlyTraffic-2018-02-24.xlsm', 'HourlyTraffic-2017-08-04.xlsm', 'HourlyTraffic-2017-09-29.xlsm', 'HourlyTraffic-2018-03-09.xlsm', 'HourlyTraffic-2017-08-12.xlsm', 'HourlyTraffic-2018-01-22.xlsm', 'HourlyTraffic-2017-07-21.xlsm', 'HourlyTraffic-2017-12-18.xlsm', 'HourlyTraffic-2017-10-25.xlsm', 'HourlyTraffic-2018-06-26.xlsm', 'HourlyTraffic-2017-11-08.xlsm', 'HourlyTraffic-2017-11-09.xlsm', 'HourlyTraffic-2017-10-24.xlsm', 'HourlyTraffic-2017-12-19.xlsm', 'HourlyTraffic-2018-06-27.xlsm', 'HourlyTraffic-2018-01-23.xlsm', 'HourlyTraffic-2017-07-20.xlsm', 'HourlyTraffic-2017-08-13.xlsm', 'HourlyTraffic-2017-09-28.xlsm', 'HourlyTraffic-2018-03-08.xlsm', 'HourlyTraffic-2018-02-25.xlsm', 'HourlyTraffic-2017-08-05.xlsm', 'HourlyTraffic-2018-05-21.xlsm', 'HourlyTraffic-2018-01-19.xlsm', 'HourlyTraffic-2018-03-24.xlsm', 'HourlyTraffic-2017-09-04.xlsm', 'HourlyTraffic-2017-08-29.xlsm', 'HourlyTraffic-2018-02-09.xlsm', 'HourlyTraffic-2017-12-23.xlsm', 'HourlyTraffic-2018-04-20.xlsm', 'HourlyTraffic-2017-11-25.xlsm', 'HourlyTraffic-2017-10-08.xlsm', 'HourlyTraffic-2017-09-12.xlsm', 'HourlyTraffic-2018-04-16.xlsm', 'HourlyTraffic-2017-12-15.xlsm', 'HourlyTraffic-2017-10-28.xlsm', 'HourlyTraffic-2017-11-05.xlsm', 'HourlyTraffic-2018-03-12.xlsm', 'HourlyTraffic-2017-08-09.xlsm', 'HourlyTraffic-2018-03-04.xlsm', 'HourlyTraffic-2017-09-24.xlsm', 'HourlyTraffic-2017-12-03.xlsm', 'HourlyTraffic-2017-11-13.xlsm', 'HourlyTraffic-2018-02-05.xlsm', 'HourlyTraffic-2017-08-25.xlsm', 'HourlyTraffic-2017-07-16.xlsm', 'HourlyTraffic-2017-09-08.xlsm', 'HourlyTraffic-2018-03-28.xlsm', 'HourlyTraffic-2018-01-15.xlsm', 'HourlyTraffic-2018-06-11.xlsm', 'HourlyTraffic-2017-10-12.xlsm', 'HourlyTraffic-2018-05-01.xlsm', 'HourlyTraffic-2017-10-04.xlsm', 'HourlyTraffic-2018-06-07.xlsm', 'HourlyTraffic-2018-05-17.xlsm', 'HourlyTraffic-2017-11-29.xlsm', 'HourlyTraffic-2018-02-13.xlsm', 'HourlyTraffic-2018-01-03.xlsm', 'HourlyTraffic-2018-06-28.xlsm', 'HourlyTraffic-2018-04-15.xlsm', 'HourlyTraffic-2017-12-16.xlsm', 'HourlyTraffic-2017-11-06.xlsm', 'HourlyTraffic-2018-03-11.xlsm', 'HourlyTraffic-2018-03-07.xlsm', 'HourlyTraffic-2017-09-27.xlsm', 'HourlyTraffic-2018-04-03.xlsm', 'HourlyTraffic-2017-11-10.xlsm', 'HourlyTraffic-2018-02-06.xlsm', 'HourlyTraffic-2017-08-26.xlsm', 'HourlyTraffic-2018-01-16.xlsm', 'HourlyTraffic-2017-07-15.xlsm', 'HourlyTraffic-2018-06-12.xlsm', 'HourlyTraffic-2017-10-11.xlsm', 'HourlyTraffic-2018-05-02.xlsm', 'HourlyTraffic-2017-10-07.xlsm', 'HourlyTraffic-2018-06-04.xlsm', 'HourlyTraffic-2018-05-14.xlsm', 'HourlyTraffic-2017-08-30.xlsm', 'HourlyTraffic-2018-02-10.xlsm', 'HourlyTraffic-2017-07-03.xlsm', 'HourlyTraffic-2017-10-27.xlsm', 'HourlyTraffic-2018-04-19.xlsm', 'HourlyTraffic-2018-06-24.xlsm', 'HourlyTraffic-2017-07-23.xlsm', 'HourlyTraffic-2018-01-20.xlsm', 'HourlyTraffic-2017-08-10.xlsm', 'HourlyTraffic-2018-02-26.xlsm', 'HourlyTraffic-2017-08-06.xlsm', 'HourlyTraffic-2018-05-22.xlsm', 'HourlyTraffic-2017-10-31.xlsm', 'HourlyTraffic-2017-07-19.xlsm', 'HourlyTraffic-2018-03-27.xlsm', 'HourlyTraffic-2017-09-07.xlsm', 'HourlyTraffic-2017-11-30.xlsm', 'HourlyTraffic-2017-12-20.xlsm', 'HourlyTraffic-2018-04-23.xlsm', 'HourlyTraffic-2017-11-26.xlsm', 'HourlyTraffic-2018-05-18.xlsm', 'HourlyTraffic-2018-06-08.xlsm', 'HourlyTraffic-2017-09-11.xlsm', 'HourlyTraffic-2018-03-31.xlsm', 'HourlyTraffic-2017-09-10.xlsm', 'HourlyTraffic-2018-03-30.xlsm', 'HourlyTraffic-2018-06-09.xlsm', 'HourlyTraffic-2017-11-27.xlsm', 'HourlyTraffic-2018-05-19.xlsm', 'HourlyTraffic-2017-12-21.xlsm', 'HourlyTraffic-2018-04-22.xlsm', 'HourlyTraffic-2017-07-18.xlsm', 'HourlyTraffic-2018-03-26.xlsm', 'HourlyTraffic-2017-09-06.xlsm', 'HourlyTraffic-2017-10-30.xlsm', 'HourlyTraffic-2018-05-23.xlsm', 'HourlyTraffic-2018-02-27.xlsm', 'HourlyTraffic-2017-08-07.xlsm', 'HourlyTraffic-2017-08-11.xlsm', 'HourlyTraffic-2017-07-22.xlsm', 'HourlyTraffic-2018-01-21.xlsm', 'HourlyTraffic-2017-10-26.xlsm', 'HourlyTraffic-2018-06-25.xlsm', 'HourlyTraffic-2018-04-18.xlsm', 'HourlyTraffic-2017-07-02.xlsm', 'HourlyTraffic-2018-01-01.xlsm', 'HourlyTraffic-2017-08-31.xlsm', 'HourlyTraffic-2018-02-11.xlsm', 'HourlyTraffic-2018-05-15.xlsm', 'HourlyTraffic-2017-10-06.xlsm', 'HourlyTraffic-2018-06-05.xlsm', 'HourlyTraffic-2018-05-03.xlsm', 'HourlyTraffic-2018-06-13.xlsm', 'HourlyTraffic-2017-10-10.xlsm', 'HourlyTraffic-2018-01-17.xlsm', 'HourlyTraffic-2017-07-14.xlsm', 'HourlyTraffic-2018-02-07.xlsm', 'HourlyTraffic-2017-08-27.xlsm', 'HourlyTraffic-2017-11-11.xlsm', 'HourlyTraffic-2017-12-01.xlsm', 'HourlyTraffic-2018-04-02.xlsm', 'HourlyTraffic-2018-03-06.xlsm', 'HourlyTraffic-2017-09-26.xlsm', 'HourlyTraffic-2017-09-30.xlsm', 'HourlyTraffic-2018-03-10.xlsm', 'HourlyTraffic-2017-11-07.xlsm', 'HourlyTraffic-2018-04-14.xlsm', 'HourlyTraffic-2018-06-29.xlsm', 'HourlyTraffic-2017-12-17.xlsm', 'HourlyTraffic-2018-06-22.xlsm', 'HourlyTraffic-2017-10-21.xlsm', 'HourlyTraffic-2018-01-26.xlsm', 'HourlyTraffic-2017-07-25.xlsm', 'HourlyTraffic-2017-08-16.xlsm', 'HourlyTraffic-2018-01-30.xlsm', 'HourlyTraffic-2018-02-20.xlsm', 'HourlyTraffic-2018-05-24.xlsm', 'HourlyTraffic-2018-04-09.xlsm', 'HourlyTraffic-2017-09-01.xlsm', 'HourlyTraffic-2018-03-21.xlsm', 'HourlyTraffic-2018-05-08.xlsm', 'HourlyTraffic-2018-04-25.xlsm', 'HourlyTraffic-2018-06-18.xlsm', 'HourlyTraffic-2017-12-26.xlsm', 'HourlyTraffic-2017-11-20.xlsm', 'HourlyTraffic-2017-12-30.xlsm', 'HourlyTraffic-2017-07-09.xlsm', 'HourlyTraffic-2017-09-17.xlsm', 'HourlyTraffic-2017-12-10.xlsm', 'HourlyTraffic-2018-04-13.xlsm', 'HourlyTraffic-2017-07-29.xlsm', 'HourlyTraffic-2018-03-17.xlsm', 'HourlyTraffic-2017-09-21.xlsm', 'HourlyTraffic-2018-03-01.xlsm', 'HourlyTraffic-2018-04-05.xlsm', 'HourlyTraffic-2017-12-06.xlsm', 'HourlyTraffic-2017-11-16.xlsm', 'HourlyTraffic-2018-05-28.xlsm', 'HourlyTraffic-2017-08-20.xlsm', 'HourlyTraffic-2017-07-13.xlsm', 'HourlyTraffic-2018-01-10.xlsm', 'HourlyTraffic-2017-10-17.xlsm', 'HourlyTraffic-2018-06-14.xlsm', 'HourlyTraffic-2018-04-29.xlsm', 'HourlyTraffic-2018-05-04.xlsm', 'HourlyTraffic-2018-06-02.xlsm', 'HourlyTraffic-2017-10-01.xlsm', 'HourlyTraffic-2018-05-12.xlsm', 'HourlyTraffic-2018-02-16.xlsm', 'HourlyTraffic-2018-01-06.xlsm', 'HourlyTraffic-2017-07-05.xlsm', 'HourlyTraffic-2018-01-07.xlsm', 'HourlyTraffic-2017-07-04.xlsm', 'HourlyTraffic-2018-02-17.xlsm', 'HourlyTraffic-2018-05-13.xlsm', 'HourlyTraffic-2018-06-03.xlsm', 'HourlyTraffic-2018-05-05.xlsm', 'HourlyTraffic-2017-10-16.xlsm', 'HourlyTraffic-2018-04-28.xlsm', 'HourlyTraffic-2018-06-15.xlsm', 'HourlyTraffic-2017-07-12.xlsm', 'HourlyTraffic-2018-01-11.xlsm', 'HourlyTraffic-2017-08-21.xlsm', 'HourlyTraffic-2018-02-01.xlsm', 'HourlyTraffic-2017-11-17.xlsm', 'HourlyTraffic-2018-05-29.xlsm', 'HourlyTraffic-2018-04-04.xlsm', 'HourlyTraffic-2017-12-07.xlsm', 'HourlyTraffic-2017-09-20.xlsm', 'HourlyTraffic-2017-07-28.xlsm', 'HourlyTraffic-2018-03-16.xlsm', 'HourlyTraffic-2017-11-01.xlsm', 'HourlyTraffic-2017-12-11.xlsm', 'HourlyTraffic-2018-04-12.xlsm', 'HourlyTraffic-2017-07-08.xlsm', 'HourlyTraffic-2017-09-16.xlsm', 'HourlyTraffic-2017-12-31.xlsm', 'HourlyTraffic-2017-11-21.xlsm', 'HourlyTraffic-2018-06-19.xlsm', 'HourlyTraffic-2018-04-24.xlsm', 'HourlyTraffic-2017-12-27.xlsm', 'HourlyTraffic-2018-05-09.xlsm', 'HourlyTraffic-2018-03-20.xlsm', 'HourlyTraffic-2018-04-08.xlsm', 'HourlyTraffic-2018-05-25.xlsm', 'HourlyTraffic-2017-08-01.xlsm', 'HourlyTraffic-2018-02-21.xlsm', 'HourlyTraffic-2018-01-31.xlsm', 'HourlyTraffic-2017-08-17.xlsm', 'HourlyTraffic-2018-01-27.xlsm', 'HourlyTraffic-2017-07-24.xlsm', 'HourlyTraffic-2018-06-23.xlsm', 'HourlyTraffic-2017-10-20.xlsm']"
   ]
  },
  {
   "cell_type": "code",
   "execution_count": 67,
   "metadata": {
    "collapsed": true
   },
   "outputs": [],
   "source": [
    "# read each file in\n",
    "\n",
    "excels = [pd.ExcelFile(name) for name in excel_names]\n"
   ]
  },
  {
   "cell_type": "code",
   "execution_count": 70,
   "metadata": {
    "collapsed": true
   },
   "outputs": [],
   "source": [
    "# grab the second sheet (the data we want) and turn them into data frames\n",
    "\n",
    "frames = [x.parse(x.sheet_names[1], header=None,index_col=None) for x in excels]\n"
   ]
  },
  {
   "cell_type": "code",
   "execution_count": 73,
   "metadata": {},
   "outputs": [],
   "source": [
    "# delete the first row for all frames except the first\n",
    "# i.e. remove the header row -- assumes it's the first\n",
    "\n",
    "frames[1:] = [df[1:] for df in frames[1:]]\n"
   ]
  },
  {
   "cell_type": "code",
   "execution_count": 74,
   "metadata": {
    "collapsed": true
   },
   "outputs": [],
   "source": [
    "# concatenate them..\n",
    "\n",
    "combined = pd.concat(frames)\n"
   ]
  },
  {
   "cell_type": "code",
   "execution_count": 75,
   "metadata": {
    "collapsed": true
   },
   "outputs": [],
   "source": [
    "# write it out\n",
    "\n",
    "combined.to_excel(\"c.xlsx\", header=False, index=False)\n"
   ]
  },
  {
   "cell_type": "code",
   "execution_count": 87,
   "metadata": {},
   "outputs": [
    {
     "data": {
      "text/html": [
       "<div>\n",
       "<style>\n",
       "    .dataframe thead tr:only-child th {\n",
       "        text-align: right;\n",
       "    }\n",
       "\n",
       "    .dataframe thead th {\n",
       "        text-align: left;\n",
       "    }\n",
       "\n",
       "    .dataframe tbody tr th {\n",
       "        vertical-align: top;\n",
       "    }\n",
       "</style>\n",
       "<table border=\"1\" class=\"dataframe\">\n",
       "  <thead>\n",
       "    <tr style=\"text-align: right;\">\n",
       "      <th></th>\n",
       "      <th>0</th>\n",
       "      <th>1</th>\n",
       "      <th>2</th>\n",
       "      <th>3</th>\n",
       "      <th>4</th>\n",
       "      <th>5</th>\n",
       "    </tr>\n",
       "  </thead>\n",
       "  <tbody>\n",
       "    <tr>\n",
       "      <th>0</th>\n",
       "      <td>Date-Time</td>\n",
       "      <td>Region</td>\n",
       "      <td>Facility</td>\n",
       "      <td>Entrance</td>\n",
       "      <td>Entries</td>\n",
       "      <td>Exits</td>\n",
       "    </tr>\n",
       "    <tr>\n",
       "      <th>1</th>\n",
       "      <td>2018-02-18 00:00:00</td>\n",
       "      <td>UC Berkeley</td>\n",
       "      <td>BANC Library</td>\n",
       "      <td>Bancroft</td>\n",
       "      <td>0</td>\n",
       "      <td>0</td>\n",
       "    </tr>\n",
       "    <tr>\n",
       "      <th>2</th>\n",
       "      <td>2018-02-18 00:00:00</td>\n",
       "      <td>UC Berkeley</td>\n",
       "      <td>BIOS Library</td>\n",
       "      <td>VLSB1</td>\n",
       "      <td>0</td>\n",
       "      <td>0</td>\n",
       "    </tr>\n",
       "    <tr>\n",
       "      <th>3</th>\n",
       "      <td>2018-02-18 00:00:00</td>\n",
       "      <td>UC Berkeley</td>\n",
       "      <td>BIOS Library</td>\n",
       "      <td>VLSB2</td>\n",
       "      <td>0</td>\n",
       "      <td>0</td>\n",
       "    </tr>\n",
       "    <tr>\n",
       "      <th>4</th>\n",
       "      <td>2018-02-18 00:00:00</td>\n",
       "      <td>UC Berkeley</td>\n",
       "      <td>CHEM Library</td>\n",
       "      <td>Sensor 25</td>\n",
       "      <td>0</td>\n",
       "      <td>0</td>\n",
       "    </tr>\n",
       "  </tbody>\n",
       "</table>\n",
       "</div>"
      ],
      "text/plain": [
       "                     0            1             2          3        4      5\n",
       "0            Date-Time       Region      Facility   Entrance  Entries  Exits\n",
       "1  2018-02-18 00:00:00  UC Berkeley  BANC Library   Bancroft        0      0\n",
       "2  2018-02-18 00:00:00  UC Berkeley  BIOS Library      VLSB1        0      0\n",
       "3  2018-02-18 00:00:00  UC Berkeley  BIOS Library      VLSB2        0      0\n",
       "4  2018-02-18 00:00:00  UC Berkeley  CHEM Library  Sensor 25        0      0"
      ]
     },
     "execution_count": 87,
     "metadata": {},
     "output_type": "execute_result"
    }
   ],
   "source": [
    "combined.head()"
   ]
  },
  {
   "cell_type": "code",
   "execution_count": 92,
   "metadata": {},
   "outputs": [
    {
     "ename": "KeyError",
     "evalue": "'Entries'",
     "output_type": "error",
     "traceback": [
      "\u001b[0;31m---------------------------------------------------------------------------\u001b[0m",
      "\u001b[0;31mTypeError\u001b[0m                                 Traceback (most recent call last)",
      "\u001b[0;32mpandas/_libs/index.pyx\u001b[0m in \u001b[0;36mpandas._libs.index.IndexEngine.get_loc (pandas/_libs/index.c:5085)\u001b[0;34m()\u001b[0m\n",
      "\u001b[0;32mpandas/_libs/hashtable_class_helper.pxi\u001b[0m in \u001b[0;36mpandas._libs.hashtable.Int64HashTable.get_item (pandas/_libs/hashtable.c:13892)\u001b[0;34m()\u001b[0m\n",
      "\u001b[0;31mTypeError\u001b[0m: an integer is required",
      "\nDuring handling of the above exception, another exception occurred:\n",
      "\u001b[0;31mKeyError\u001b[0m                                  Traceback (most recent call last)",
      "\u001b[0;32m/Users/joshuaquan/anaconda/lib/python3.6/site-packages/pandas/core/indexes/base.py\u001b[0m in \u001b[0;36mget_loc\u001b[0;34m(self, key, method, tolerance)\u001b[0m\n\u001b[1;32m   2392\u001b[0m             \u001b[0;32mtry\u001b[0m\u001b[0;34m:\u001b[0m\u001b[0;34m\u001b[0m\u001b[0m\n\u001b[0;32m-> 2393\u001b[0;31m                 \u001b[0;32mreturn\u001b[0m \u001b[0mself\u001b[0m\u001b[0;34m.\u001b[0m\u001b[0m_engine\u001b[0m\u001b[0;34m.\u001b[0m\u001b[0mget_loc\u001b[0m\u001b[0;34m(\u001b[0m\u001b[0mkey\u001b[0m\u001b[0;34m)\u001b[0m\u001b[0;34m\u001b[0m\u001b[0m\n\u001b[0m\u001b[1;32m   2394\u001b[0m             \u001b[0;32mexcept\u001b[0m \u001b[0mKeyError\u001b[0m\u001b[0;34m:\u001b[0m\u001b[0;34m\u001b[0m\u001b[0m\n",
      "\u001b[0;32mpandas/_libs/index.pyx\u001b[0m in \u001b[0;36mpandas._libs.index.IndexEngine.get_loc (pandas/_libs/index.c:5239)\u001b[0;34m()\u001b[0m\n",
      "\u001b[0;32mpandas/_libs/index.pyx\u001b[0m in \u001b[0;36mpandas._libs.index.IndexEngine.get_loc (pandas/_libs/index.c:5169)\u001b[0;34m()\u001b[0m\n",
      "\u001b[0;31mKeyError\u001b[0m: 'Entries'",
      "\nDuring handling of the above exception, another exception occurred:\n",
      "\u001b[0;31mTypeError\u001b[0m                                 Traceback (most recent call last)",
      "\u001b[0;32mpandas/_libs/index.pyx\u001b[0m in \u001b[0;36mpandas._libs.index.IndexEngine.get_loc (pandas/_libs/index.c:5085)\u001b[0;34m()\u001b[0m\n",
      "\u001b[0;32mpandas/_libs/hashtable_class_helper.pxi\u001b[0m in \u001b[0;36mpandas._libs.hashtable.Int64HashTable.get_item (pandas/_libs/hashtable.c:13892)\u001b[0;34m()\u001b[0m\n",
      "\u001b[0;31mTypeError\u001b[0m: an integer is required",
      "\nDuring handling of the above exception, another exception occurred:\n",
      "\u001b[0;31mKeyError\u001b[0m                                  Traceback (most recent call last)",
      "\u001b[0;32m<ipython-input-92-6e41014a3dd0>\u001b[0m in \u001b[0;36m<module>\u001b[0;34m()\u001b[0m\n\u001b[0;32m----> 1\u001b[0;31m \u001b[0mcombined\u001b[0m\u001b[0;34m.\u001b[0m\u001b[0msort_values\u001b[0m\u001b[0;34m(\u001b[0m\u001b[0mby\u001b[0m \u001b[0;34m=\u001b[0m \u001b[0;34m[\u001b[0m\u001b[0;34m'Entries'\u001b[0m\u001b[0;34m]\u001b[0m\u001b[0;34m)\u001b[0m\u001b[0;34m\u001b[0m\u001b[0m\n\u001b[0m",
      "\u001b[0;32m/Users/joshuaquan/anaconda/lib/python3.6/site-packages/pandas/core/frame.py\u001b[0m in \u001b[0;36msort_values\u001b[0;34m(self, by, axis, ascending, inplace, kind, na_position)\u001b[0m\n\u001b[1;32m   3282\u001b[0m \u001b[0;34m\u001b[0m\u001b[0m\n\u001b[1;32m   3283\u001b[0m             \u001b[0mby\u001b[0m \u001b[0;34m=\u001b[0m \u001b[0mby\u001b[0m\u001b[0;34m[\u001b[0m\u001b[0;36m0\u001b[0m\u001b[0;34m]\u001b[0m\u001b[0;34m\u001b[0m\u001b[0m\n\u001b[0;32m-> 3284\u001b[0;31m             \u001b[0mk\u001b[0m \u001b[0;34m=\u001b[0m \u001b[0mself\u001b[0m\u001b[0;34m.\u001b[0m\u001b[0mxs\u001b[0m\u001b[0;34m(\u001b[0m\u001b[0mby\u001b[0m\u001b[0;34m,\u001b[0m \u001b[0maxis\u001b[0m\u001b[0;34m=\u001b[0m\u001b[0mother_axis\u001b[0m\u001b[0;34m)\u001b[0m\u001b[0;34m.\u001b[0m\u001b[0mvalues\u001b[0m\u001b[0;34m\u001b[0m\u001b[0m\n\u001b[0m\u001b[1;32m   3285\u001b[0m             \u001b[0;32mif\u001b[0m \u001b[0mk\u001b[0m\u001b[0;34m.\u001b[0m\u001b[0mndim\u001b[0m \u001b[0;34m==\u001b[0m \u001b[0;36m2\u001b[0m\u001b[0;34m:\u001b[0m\u001b[0;34m\u001b[0m\u001b[0m\n\u001b[1;32m   3286\u001b[0m \u001b[0;34m\u001b[0m\u001b[0m\n",
      "\u001b[0;32m/Users/joshuaquan/anaconda/lib/python3.6/site-packages/pandas/core/generic.py\u001b[0m in \u001b[0;36mxs\u001b[0;34m(self, key, axis, level, drop_level)\u001b[0m\n\u001b[1;32m   1910\u001b[0m \u001b[0;34m\u001b[0m\u001b[0m\n\u001b[1;32m   1911\u001b[0m         \u001b[0;32mif\u001b[0m \u001b[0maxis\u001b[0m \u001b[0;34m==\u001b[0m \u001b[0;36m1\u001b[0m\u001b[0;34m:\u001b[0m\u001b[0;34m\u001b[0m\u001b[0m\n\u001b[0;32m-> 1912\u001b[0;31m             \u001b[0;32mreturn\u001b[0m \u001b[0mself\u001b[0m\u001b[0;34m[\u001b[0m\u001b[0mkey\u001b[0m\u001b[0;34m]\u001b[0m\u001b[0;34m\u001b[0m\u001b[0m\n\u001b[0m\u001b[1;32m   1913\u001b[0m \u001b[0;34m\u001b[0m\u001b[0m\n\u001b[1;32m   1914\u001b[0m         \u001b[0mself\u001b[0m\u001b[0;34m.\u001b[0m\u001b[0m_consolidate_inplace\u001b[0m\u001b[0;34m(\u001b[0m\u001b[0;34m)\u001b[0m\u001b[0;34m\u001b[0m\u001b[0m\n",
      "\u001b[0;32m/Users/joshuaquan/anaconda/lib/python3.6/site-packages/pandas/core/frame.py\u001b[0m in \u001b[0;36m__getitem__\u001b[0;34m(self, key)\u001b[0m\n\u001b[1;32m   2060\u001b[0m             \u001b[0;32mreturn\u001b[0m \u001b[0mself\u001b[0m\u001b[0;34m.\u001b[0m\u001b[0m_getitem_multilevel\u001b[0m\u001b[0;34m(\u001b[0m\u001b[0mkey\u001b[0m\u001b[0;34m)\u001b[0m\u001b[0;34m\u001b[0m\u001b[0m\n\u001b[1;32m   2061\u001b[0m         \u001b[0;32melse\u001b[0m\u001b[0;34m:\u001b[0m\u001b[0;34m\u001b[0m\u001b[0m\n\u001b[0;32m-> 2062\u001b[0;31m             \u001b[0;32mreturn\u001b[0m \u001b[0mself\u001b[0m\u001b[0;34m.\u001b[0m\u001b[0m_getitem_column\u001b[0m\u001b[0;34m(\u001b[0m\u001b[0mkey\u001b[0m\u001b[0;34m)\u001b[0m\u001b[0;34m\u001b[0m\u001b[0m\n\u001b[0m\u001b[1;32m   2063\u001b[0m \u001b[0;34m\u001b[0m\u001b[0m\n\u001b[1;32m   2064\u001b[0m     \u001b[0;32mdef\u001b[0m \u001b[0m_getitem_column\u001b[0m\u001b[0;34m(\u001b[0m\u001b[0mself\u001b[0m\u001b[0;34m,\u001b[0m \u001b[0mkey\u001b[0m\u001b[0;34m)\u001b[0m\u001b[0;34m:\u001b[0m\u001b[0;34m\u001b[0m\u001b[0m\n",
      "\u001b[0;32m/Users/joshuaquan/anaconda/lib/python3.6/site-packages/pandas/core/frame.py\u001b[0m in \u001b[0;36m_getitem_column\u001b[0;34m(self, key)\u001b[0m\n\u001b[1;32m   2067\u001b[0m         \u001b[0;31m# get column\u001b[0m\u001b[0;34m\u001b[0m\u001b[0;34m\u001b[0m\u001b[0m\n\u001b[1;32m   2068\u001b[0m         \u001b[0;32mif\u001b[0m \u001b[0mself\u001b[0m\u001b[0;34m.\u001b[0m\u001b[0mcolumns\u001b[0m\u001b[0;34m.\u001b[0m\u001b[0mis_unique\u001b[0m\u001b[0;34m:\u001b[0m\u001b[0;34m\u001b[0m\u001b[0m\n\u001b[0;32m-> 2069\u001b[0;31m             \u001b[0;32mreturn\u001b[0m \u001b[0mself\u001b[0m\u001b[0;34m.\u001b[0m\u001b[0m_get_item_cache\u001b[0m\u001b[0;34m(\u001b[0m\u001b[0mkey\u001b[0m\u001b[0;34m)\u001b[0m\u001b[0;34m\u001b[0m\u001b[0m\n\u001b[0m\u001b[1;32m   2070\u001b[0m \u001b[0;34m\u001b[0m\u001b[0m\n\u001b[1;32m   2071\u001b[0m         \u001b[0;31m# duplicate columns & possible reduce dimensionality\u001b[0m\u001b[0;34m\u001b[0m\u001b[0;34m\u001b[0m\u001b[0m\n",
      "\u001b[0;32m/Users/joshuaquan/anaconda/lib/python3.6/site-packages/pandas/core/generic.py\u001b[0m in \u001b[0;36m_get_item_cache\u001b[0;34m(self, item)\u001b[0m\n\u001b[1;32m   1532\u001b[0m         \u001b[0mres\u001b[0m \u001b[0;34m=\u001b[0m \u001b[0mcache\u001b[0m\u001b[0;34m.\u001b[0m\u001b[0mget\u001b[0m\u001b[0;34m(\u001b[0m\u001b[0mitem\u001b[0m\u001b[0;34m)\u001b[0m\u001b[0;34m\u001b[0m\u001b[0m\n\u001b[1;32m   1533\u001b[0m         \u001b[0;32mif\u001b[0m \u001b[0mres\u001b[0m \u001b[0;32mis\u001b[0m \u001b[0;32mNone\u001b[0m\u001b[0;34m:\u001b[0m\u001b[0;34m\u001b[0m\u001b[0m\n\u001b[0;32m-> 1534\u001b[0;31m             \u001b[0mvalues\u001b[0m \u001b[0;34m=\u001b[0m \u001b[0mself\u001b[0m\u001b[0;34m.\u001b[0m\u001b[0m_data\u001b[0m\u001b[0;34m.\u001b[0m\u001b[0mget\u001b[0m\u001b[0;34m(\u001b[0m\u001b[0mitem\u001b[0m\u001b[0;34m)\u001b[0m\u001b[0;34m\u001b[0m\u001b[0m\n\u001b[0m\u001b[1;32m   1535\u001b[0m             \u001b[0mres\u001b[0m \u001b[0;34m=\u001b[0m \u001b[0mself\u001b[0m\u001b[0;34m.\u001b[0m\u001b[0m_box_item_values\u001b[0m\u001b[0;34m(\u001b[0m\u001b[0mitem\u001b[0m\u001b[0;34m,\u001b[0m \u001b[0mvalues\u001b[0m\u001b[0;34m)\u001b[0m\u001b[0;34m\u001b[0m\u001b[0m\n\u001b[1;32m   1536\u001b[0m             \u001b[0mcache\u001b[0m\u001b[0;34m[\u001b[0m\u001b[0mitem\u001b[0m\u001b[0;34m]\u001b[0m \u001b[0;34m=\u001b[0m \u001b[0mres\u001b[0m\u001b[0;34m\u001b[0m\u001b[0m\n",
      "\u001b[0;32m/Users/joshuaquan/anaconda/lib/python3.6/site-packages/pandas/core/internals.py\u001b[0m in \u001b[0;36mget\u001b[0;34m(self, item, fastpath)\u001b[0m\n\u001b[1;32m   3588\u001b[0m \u001b[0;34m\u001b[0m\u001b[0m\n\u001b[1;32m   3589\u001b[0m             \u001b[0;32mif\u001b[0m \u001b[0;32mnot\u001b[0m \u001b[0misnull\u001b[0m\u001b[0;34m(\u001b[0m\u001b[0mitem\u001b[0m\u001b[0;34m)\u001b[0m\u001b[0;34m:\u001b[0m\u001b[0;34m\u001b[0m\u001b[0m\n\u001b[0;32m-> 3590\u001b[0;31m                 \u001b[0mloc\u001b[0m \u001b[0;34m=\u001b[0m \u001b[0mself\u001b[0m\u001b[0;34m.\u001b[0m\u001b[0mitems\u001b[0m\u001b[0;34m.\u001b[0m\u001b[0mget_loc\u001b[0m\u001b[0;34m(\u001b[0m\u001b[0mitem\u001b[0m\u001b[0;34m)\u001b[0m\u001b[0;34m\u001b[0m\u001b[0m\n\u001b[0m\u001b[1;32m   3591\u001b[0m             \u001b[0;32melse\u001b[0m\u001b[0;34m:\u001b[0m\u001b[0;34m\u001b[0m\u001b[0m\n\u001b[1;32m   3592\u001b[0m                 \u001b[0mindexer\u001b[0m \u001b[0;34m=\u001b[0m \u001b[0mnp\u001b[0m\u001b[0;34m.\u001b[0m\u001b[0marange\u001b[0m\u001b[0;34m(\u001b[0m\u001b[0mlen\u001b[0m\u001b[0;34m(\u001b[0m\u001b[0mself\u001b[0m\u001b[0;34m.\u001b[0m\u001b[0mitems\u001b[0m\u001b[0;34m)\u001b[0m\u001b[0;34m)\u001b[0m\u001b[0;34m[\u001b[0m\u001b[0misnull\u001b[0m\u001b[0;34m(\u001b[0m\u001b[0mself\u001b[0m\u001b[0;34m.\u001b[0m\u001b[0mitems\u001b[0m\u001b[0;34m)\u001b[0m\u001b[0;34m]\u001b[0m\u001b[0;34m\u001b[0m\u001b[0m\n",
      "\u001b[0;32m/Users/joshuaquan/anaconda/lib/python3.6/site-packages/pandas/core/indexes/base.py\u001b[0m in \u001b[0;36mget_loc\u001b[0;34m(self, key, method, tolerance)\u001b[0m\n\u001b[1;32m   2393\u001b[0m                 \u001b[0;32mreturn\u001b[0m \u001b[0mself\u001b[0m\u001b[0;34m.\u001b[0m\u001b[0m_engine\u001b[0m\u001b[0;34m.\u001b[0m\u001b[0mget_loc\u001b[0m\u001b[0;34m(\u001b[0m\u001b[0mkey\u001b[0m\u001b[0;34m)\u001b[0m\u001b[0;34m\u001b[0m\u001b[0m\n\u001b[1;32m   2394\u001b[0m             \u001b[0;32mexcept\u001b[0m \u001b[0mKeyError\u001b[0m\u001b[0;34m:\u001b[0m\u001b[0;34m\u001b[0m\u001b[0m\n\u001b[0;32m-> 2395\u001b[0;31m                 \u001b[0;32mreturn\u001b[0m \u001b[0mself\u001b[0m\u001b[0;34m.\u001b[0m\u001b[0m_engine\u001b[0m\u001b[0;34m.\u001b[0m\u001b[0mget_loc\u001b[0m\u001b[0;34m(\u001b[0m\u001b[0mself\u001b[0m\u001b[0;34m.\u001b[0m\u001b[0m_maybe_cast_indexer\u001b[0m\u001b[0;34m(\u001b[0m\u001b[0mkey\u001b[0m\u001b[0;34m)\u001b[0m\u001b[0;34m)\u001b[0m\u001b[0;34m\u001b[0m\u001b[0m\n\u001b[0m\u001b[1;32m   2396\u001b[0m \u001b[0;34m\u001b[0m\u001b[0m\n\u001b[1;32m   2397\u001b[0m         \u001b[0mindexer\u001b[0m \u001b[0;34m=\u001b[0m \u001b[0mself\u001b[0m\u001b[0;34m.\u001b[0m\u001b[0mget_indexer\u001b[0m\u001b[0;34m(\u001b[0m\u001b[0;34m[\u001b[0m\u001b[0mkey\u001b[0m\u001b[0;34m]\u001b[0m\u001b[0;34m,\u001b[0m \u001b[0mmethod\u001b[0m\u001b[0;34m=\u001b[0m\u001b[0mmethod\u001b[0m\u001b[0;34m,\u001b[0m \u001b[0mtolerance\u001b[0m\u001b[0;34m=\u001b[0m\u001b[0mtolerance\u001b[0m\u001b[0;34m)\u001b[0m\u001b[0;34m\u001b[0m\u001b[0m\n",
      "\u001b[0;32mpandas/_libs/index.pyx\u001b[0m in \u001b[0;36mpandas._libs.index.IndexEngine.get_loc (pandas/_libs/index.c:5239)\u001b[0;34m()\u001b[0m\n",
      "\u001b[0;32mpandas/_libs/index.pyx\u001b[0m in \u001b[0;36mpandas._libs.index.IndexEngine.get_loc (pandas/_libs/index.c:5169)\u001b[0;34m()\u001b[0m\n",
      "\u001b[0;31mKeyError\u001b[0m: 'Entries'"
     ]
    }
   ],
   "source": [
    "combined.sort_values(by = ['Date-Time'])"
   ]
  },
  {
   "cell_type": "code",
   "execution_count": null,
   "metadata": {
    "collapsed": true
   },
   "outputs": [],
   "source": []
  }
 ],
 "metadata": {
  "kernelspec": {
   "display_name": "Python 3",
   "language": "python",
   "name": "python3"
  },
  "language_info": {
   "codemirror_mode": {
    "name": "ipython",
    "version": 3
   },
   "file_extension": ".py",
   "mimetype": "text/x-python",
   "name": "python",
   "nbconvert_exporter": "python",
   "pygments_lexer": "ipython3",
   "version": "3.6.1"
  }
 },
 "nbformat": 4,
 "nbformat_minor": 2
}
